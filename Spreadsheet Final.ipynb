{
 "cells": [
  {
   "cell_type": "markdown",
   "metadata": {},
   "source": [
    "Installing required libraries...."
   ]
  },
  {
   "cell_type": "code",
   "execution_count": 1,
   "metadata": {},
   "outputs": [
    {
     "name": "stdout",
     "output_type": "stream",
     "text": [
      "Requirement already satisfied: gspread in c:\\users\\dell\\appdata\\local\\programs\\python\\python36\\lib\\site-packages (3.1.0)\n",
      "Requirement already satisfied: requests>=2.2.1 in c:\\users\\dell\\appdata\\local\\programs\\python\\python36\\lib\\site-packages (from gspread) (2.21.0)\n",
      "Requirement already satisfied: idna<2.9,>=2.5 in c:\\users\\dell\\appdata\\local\\programs\\python\\python36\\lib\\site-packages (from requests>=2.2.1->gspread) (2.8)\n",
      "Requirement already satisfied: certifi>=2017.4.17 in c:\\users\\dell\\appdata\\local\\programs\\python\\python36\\lib\\site-packages (from requests>=2.2.1->gspread) (2018.11.29)\n",
      "Requirement already satisfied: chardet<3.1.0,>=3.0.2 in c:\\users\\dell\\appdata\\local\\programs\\python\\python36\\lib\\site-packages (from requests>=2.2.1->gspread) (3.0.4)\n",
      "Requirement already satisfied: urllib3<1.25,>=1.21.1 in c:\\users\\dell\\appdata\\local\\programs\\python\\python36\\lib\\site-packages (from requests>=2.2.1->gspread) (1.24.1)\n",
      "Requirement already satisfied: oauth2client in c:\\users\\dell\\appdata\\local\\programs\\python\\python36\\lib\\site-packages (4.1.3)\n",
      "Requirement already satisfied: httplib2>=0.9.1 in c:\\users\\dell\\appdata\\local\\programs\\python\\python36\\lib\\site-packages (from oauth2client) (0.12.1)\n",
      "Requirement already satisfied: six>=1.6.1 in c:\\users\\dell\\appdata\\local\\programs\\python\\python36\\lib\\site-packages (from oauth2client) (1.11.0)\n",
      "Requirement already satisfied: pyasn1-modules>=0.0.5 in c:\\users\\dell\\appdata\\local\\programs\\python\\python36\\lib\\site-packages (from oauth2client) (0.2.4)\n",
      "Requirement already satisfied: pyasn1>=0.1.7 in c:\\users\\dell\\appdata\\local\\programs\\python\\python36\\lib\\site-packages (from oauth2client) (0.4.5)\n",
      "Requirement already satisfied: rsa>=3.1.4 in c:\\users\\dell\\appdata\\local\\programs\\python\\python36\\lib\\site-packages (from oauth2client) (4.0)\n"
     ]
    }
   ],
   "source": [
    "!pip install gspread\n",
    "!pip install oauth2client"
   ]
  },
  {
   "cell_type": "markdown",
   "metadata": {},
   "source": [
    "Importing Libraries...."
   ]
  },
  {
   "cell_type": "code",
   "execution_count": 22,
   "metadata": {},
   "outputs": [],
   "source": [
    "import gspread\n",
    "from oauth2client.service_account import ServiceAccountCredentials"
   ]
  },
  {
   "cell_type": "markdown",
   "metadata": {},
   "source": [
    "Taking credentials from gspread and the credential file downloaded from Google Developer Console...."
   ]
  },
  {
   "cell_type": "code",
   "execution_count": 41,
   "metadata": {},
   "outputs": [],
   "source": [
    "scope=['https://spreadsheets.google.com/feeds','https://www.googleapis.com/auth/drive']\n",
    "#,'https://www.googleapis.com/auth/drive'\n",
    "credentials=ServiceAccountCredentials.from_json_keyfile_name('LastProject-c2e2a2766e6e.json',scope)\n",
    "gc = gspread.authorize(credentials)"
   ]
  },
  {
   "cell_type": "markdown",
   "metadata": {},
   "source": [
    "Creating a new spreadsheet that will contain all the worksheets...."
   ]
  },
  {
   "cell_type": "code",
   "execution_count": 24,
   "metadata": {},
   "outputs": [],
   "source": [
    "sh = gc.create('Spreadsheet')"
   ]
  },
  {
   "cell_type": "markdown",
   "metadata": {},
   "source": [
    "Sharing the spreadsheet with the email in credentials file downloaded from Google Developer Console to allow editing...."
   ]
  },
  {
   "cell_type": "code",
   "execution_count": 54,
   "metadata": {},
   "outputs": [],
   "source": [
    "sh.share('project@lastproject-232216.iam.gserviceaccount.com', perm_type='user', role='writer')"
   ]
  },
  {
   "cell_type": "markdown",
   "metadata": {},
   "source": [
    "Opening the newly created spreadsheet...."
   ]
  },
  {
   "cell_type": "code",
   "execution_count": 42,
   "metadata": {},
   "outputs": [],
   "source": [
    "sh=gc.open('Spreadsheet')"
   ]
  },
  {
   "cell_type": "markdown",
   "metadata": {},
   "source": [
    "Printing all the worksheets contained in this spreadsheet...."
   ]
  },
  {
   "cell_type": "code",
   "execution_count": 29,
   "metadata": {},
   "outputs": [
    {
     "name": "stdout",
     "output_type": "stream",
     "text": [
      "[<Worksheet 'Sheet1' id:0>, <Worksheet 'A worksheet' id:891560023>]\n"
     ]
    }
   ],
   "source": [
    "worksheet_list = sh.worksheets()\n",
    "print(worksheet_list)"
   ]
  },
  {
   "cell_type": "markdown",
   "metadata": {},
   "source": [
    "Adding new worksheets in this spreadsheet...."
   ]
  },
  {
   "cell_type": "code",
   "execution_count": 28,
   "metadata": {},
   "outputs": [],
   "source": [
    "worksheet = sh.add_worksheet(title=\"A worksheet\", rows=\"100\", cols=\"20\")"
   ]
  },
  {
   "cell_type": "code",
   "execution_count": 47,
   "metadata": {},
   "outputs": [],
   "source": [
    "worksheet1 = sh.add_worksheet(title=\"A new worksheet\", rows=\"100\", cols=\"20\")"
   ]
  },
  {
   "cell_type": "markdown",
   "metadata": {},
   "source": [
    "Deleting a worksheet...."
   ]
  },
  {
   "cell_type": "code",
   "execution_count": 48,
   "metadata": {},
   "outputs": [
    {
     "data": {
      "text/plain": [
       "{'spreadsheetId': '18B4jAjThYvn1YZeif8l2ahgYpfHZ34TLdQfDUgpr_Cs',\n",
       " 'replies': [{}]}"
      ]
     },
     "execution_count": 48,
     "metadata": {},
     "output_type": "execute_result"
    }
   ],
   "source": [
    "sh.del_worksheet(worksheet1)"
   ]
  },
  {
   "cell_type": "markdown",
   "metadata": {},
   "source": [
    "Printing contents of all the worksheets in this spreadsheet...."
   ]
  },
  {
   "cell_type": "code",
   "execution_count": 51,
   "metadata": {},
   "outputs": [
    {
     "name": "stdout",
     "output_type": "stream",
     "text": [
      "[{'A': 'E', 'B': 'F'}, {'A': 'I', 'B': 'J'}, {'A': 'M', 'B': 'N'}]\n",
      "[{'C': 'G', 'D': 'H'}, {'C': 'K', 'D': 'L'}, {'C': 'O', 'D': 'P'}]\n"
     ]
    }
   ],
   "source": [
    "wks1=sh.get_worksheet(0)\n",
    "wks2=sh.get_worksheet(1)\n",
    "print(wks1.get_all_records())\n",
    "print(wks2.get_all_records())"
   ]
  },
  {
   "cell_type": "markdown",
   "metadata": {},
   "source": [
    "Adding data to the worksheets...."
   ]
  },
  {
   "cell_type": "code",
   "execution_count": 31,
   "metadata": {},
   "outputs": [
    {
     "data": {
      "text/plain": [
       "{'spreadsheetId': '18B4jAjThYvn1YZeif8l2ahgYpfHZ34TLdQfDUgpr_Cs',\n",
       " 'tableRange': \"'A worksheet'!A1:B1\",\n",
       " 'updates': {'spreadsheetId': '18B4jAjThYvn1YZeif8l2ahgYpfHZ34TLdQfDUgpr_Cs',\n",
       "  'updatedRange': \"'A worksheet'!A2:B2\",\n",
       "  'updatedRows': 1,\n",
       "  'updatedColumns': 2,\n",
       "  'updatedCells': 2}}"
      ]
     },
     "execution_count": 31,
     "metadata": {},
     "output_type": "execute_result"
    }
   ],
   "source": [
    "wks1.append_row(['A','B'])\n",
    "wks2.append_row(['C','D'])\n",
    "wks1.append_row(['E','F'])\n",
    "wks2.append_row(['G','H'])"
   ]
  },
  {
   "cell_type": "markdown",
   "metadata": {},
   "source": [
    "Adding more data to the worksheets...."
   ]
  },
  {
   "cell_type": "code",
   "execution_count": 33,
   "metadata": {},
   "outputs": [
    {
     "data": {
      "text/plain": [
       "{'spreadsheetId': '18B4jAjThYvn1YZeif8l2ahgYpfHZ34TLdQfDUgpr_Cs',\n",
       " 'tableRange': \"'A worksheet'!A1:B3\",\n",
       " 'updates': {'spreadsheetId': '18B4jAjThYvn1YZeif8l2ahgYpfHZ34TLdQfDUgpr_Cs',\n",
       "  'updatedRange': \"'A worksheet'!A4:B4\",\n",
       "  'updatedRows': 1,\n",
       "  'updatedColumns': 2,\n",
       "  'updatedCells': 2}}"
      ]
     },
     "execution_count": 33,
     "metadata": {},
     "output_type": "execute_result"
    }
   ],
   "source": [
    "wks1.append_row(['I','J'])\n",
    "wks2.append_row(['K','L'])\n",
    "wks1.append_row(['M','N'])\n",
    "wks2.append_row(['O','P'])"
   ]
  },
  {
   "cell_type": "markdown",
   "metadata": {},
   "source": [
    "Again printing contents of the worksheets...."
   ]
  },
  {
   "cell_type": "code",
   "execution_count": 53,
   "metadata": {},
   "outputs": [
    {
     "name": "stdout",
     "output_type": "stream",
     "text": [
      "[{'A': 'E', 'B': 'F'}, {'A': 'I', 'B': 'J'}, {'A': 'M', 'B': 'N'}, {'A': 'L', 'B': ''}]\n",
      "[{'C': 'G', 'D': 'H'}, {'C': 'K', 'D': 'L'}, {'C': 'O', 'D': 'P'}]\n"
     ]
    }
   ],
   "source": [
    "print(wks1.get_all_records())\n",
    "print(wks2.get_all_records())"
   ]
  },
  {
   "cell_type": "markdown",
   "metadata": {},
   "source": [
    "Accessing a particular row in a worksheet...."
   ]
  },
  {
   "cell_type": "code",
   "execution_count": 36,
   "metadata": {},
   "outputs": [
    {
     "name": "stdout",
     "output_type": "stream",
     "text": [
      "['E', 'F']\n"
     ]
    }
   ],
   "source": [
    "values_list = wks1.row_values(2)\n",
    "print(values_list)"
   ]
  },
  {
   "cell_type": "markdown",
   "metadata": {},
   "source": [
    "Updating value of cell A5 in wks1 with value from cell B3 in wks2...."
   ]
  },
  {
   "cell_type": "code",
   "execution_count": 52,
   "metadata": {},
   "outputs": [
    {
     "data": {
      "text/plain": [
       "{'spreadsheetId': '18B4jAjThYvn1YZeif8l2ahgYpfHZ34TLdQfDUgpr_Cs',\n",
       " 'updatedRange': 'Sheet1!A5',\n",
       " 'updatedRows': 1,\n",
       " 'updatedColumns': 1,\n",
       " 'updatedCells': 1}"
      ]
     },
     "execution_count": 52,
     "metadata": {},
     "output_type": "execute_result"
    }
   ],
   "source": [
    "wks1.update_acell('A5', wks2.acell('B3').value)"
   ]
  },
  {
   "cell_type": "code",
   "execution_count": null,
   "metadata": {},
   "outputs": [],
   "source": []
  }
 ],
 "metadata": {
  "kernelspec": {
   "display_name": "Python 3",
   "language": "python",
   "name": "python3"
  },
  "language_info": {
   "codemirror_mode": {
    "name": "ipython",
    "version": 3
   },
   "file_extension": ".py",
   "mimetype": "text/x-python",
   "name": "python",
   "nbconvert_exporter": "python",
   "pygments_lexer": "ipython3",
   "version": "3.6.5"
  }
 },
 "nbformat": 4,
 "nbformat_minor": 2
}
